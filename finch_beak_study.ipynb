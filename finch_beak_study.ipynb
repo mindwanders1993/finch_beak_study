{
 "cells": [
  {
   "cell_type": "markdown",
   "id": "f027299f",
   "metadata": {},
   "source": [
    "# Study of Finch beak in island Daphne Major\n",
    "\n",
    "The island of Daphne Major, has Finches of Geospiza fortis, Geospiza scandens\n",
    "\n",
    "## Data Source:\n",
    "* Peter and Rosemary Grant\n",
    "    * 40 Years of Evolution: Darwin's Finches on Daphne Major island\n",
    "    * Princeton University Press, 2014\n",
    "* Data accquired from Dryad Digital Repository\n",
    "    * https://doi.org/10.5061/dryad.g6g3h"
   ]
  },
  {
   "cell_type": "markdown",
   "id": "a70cf60f",
   "metadata": {},
   "source": [
    "## The dimension of the finch beak\n",
    "* beak length in millimeters (mm)\n",
    "* beak depth in millimeters (mm)"
   ]
  },
  {
   "cell_type": "markdown",
   "id": "87353057",
   "metadata": {},
   "source": [
    "## Investigation of Geospiza scandens beak depth\n",
    "* EDA of beak depths in 1975 and 2012\n",
    "* Parameter estimation of mean beak depth\n",
    "* Hypothesis test: did the beaks get deeper?"
   ]
  },
  {
   "cell_type": "markdown",
   "id": "550a5a19",
   "metadata": {},
   "source": [
    "## Variation in beak shapes\n",
    "* Is beak shape changing?"
   ]
  },
  {
   "cell_type": "markdown",
   "id": "5595da85",
   "metadata": {},
   "source": [
    "## Calculation of heritability\n",
    "* Heredity - The tendency of parental traits to be inherited by offspring."
   ]
  },
  {
   "cell_type": "markdown",
   "id": "b5b8a73a",
   "metadata": {},
   "source": [
    "## Steps to Perform Analysis\n",
    "* Perform EDA\n",
    "    * Generate effective plots like ECDFs\n",
    "    * Compute summary statistics\n",
    "* Estimate parameters\n",
    "    * By optimization, including linear regression\n",
    "    * Determine confidence intervals\n",
    "* Formulate and test hypothesis"
   ]
  },
  {
   "cell_type": "markdown",
   "id": "d1b29b5b",
   "metadata": {},
   "source": [
    "## Import python packages / dependencies"
   ]
  },
  {
   "cell_type": "code",
   "execution_count": 280,
   "id": "b17eddea",
   "metadata": {},
   "outputs": [],
   "source": [
    "# Import dependencies\n",
    "import pandas as pd\n",
    "import numpy as np\n",
    "import matplotlib.pyplot as plt\n",
    "import seaborn as sns"
   ]
  },
  {
   "cell_type": "markdown",
   "id": "6341f727",
   "metadata": {},
   "source": [
    "## Extract, load and clean the data"
   ]
  },
  {
   "cell_type": "code",
   "execution_count": 281,
   "id": "0dcf64dc",
   "metadata": {},
   "outputs": [],
   "source": [
    "# Extract and load data\n",
    "# Fig. 10-03 data, 75.csv\n",
    "finch_beaks_1975 = pd.read_csv(r'data/finch_beaks_1975.csv')\n",
    "\n",
    "# Fig. 10-03 data, 12.csv\n",
    "finch_beaks_2012 = pd.read_csv(r'data/finch_beaks_2012.csv')\n",
    "\n",
    "# Fig. 03-03(fortis) Offspring bands = averages of offspring band \n",
    "#      numbers; femband = social mother; BD = beak depth \n",
    "fortis_beak_depth_heredity = pd.read_csv(r'data/fortis_beak_depth_heredity.csv')\n",
    "\n",
    "scandens_beak_depth_heredity = pd.read_csv(r'data/scandens_beak_depth_heredity.csv')"
   ]
  },
  {
   "cell_type": "code",
   "execution_count": 282,
   "id": "6d4b2499",
   "metadata": {},
   "outputs": [
    {
     "data": {
      "text/html": [
       "<div>\n",
       "<style scoped>\n",
       "    .dataframe tbody tr th:only-of-type {\n",
       "        vertical-align: middle;\n",
       "    }\n",
       "\n",
       "    .dataframe tbody tr th {\n",
       "        vertical-align: top;\n",
       "    }\n",
       "\n",
       "    .dataframe thead th {\n",
       "        text-align: right;\n",
       "    }\n",
       "</style>\n",
       "<table border=\"1\" class=\"dataframe\">\n",
       "  <thead>\n",
       "    <tr style=\"text-align: right;\">\n",
       "      <th></th>\n",
       "      <th>band</th>\n",
       "      <th>species</th>\n",
       "      <th>Beak length, mm</th>\n",
       "      <th>Beak depth, mm</th>\n",
       "    </tr>\n",
       "  </thead>\n",
       "  <tbody>\n",
       "    <tr>\n",
       "      <th>0</th>\n",
       "      <td>2</td>\n",
       "      <td>fortis</td>\n",
       "      <td>9.4</td>\n",
       "      <td>8.0</td>\n",
       "    </tr>\n",
       "    <tr>\n",
       "      <th>1</th>\n",
       "      <td>9</td>\n",
       "      <td>fortis</td>\n",
       "      <td>9.2</td>\n",
       "      <td>8.3</td>\n",
       "    </tr>\n",
       "  </tbody>\n",
       "</table>\n",
       "</div>"
      ],
      "text/plain": [
       "   band species  Beak length, mm  Beak depth, mm\n",
       "0     2  fortis              9.4             8.0\n",
       "1     9  fortis              9.2             8.3"
      ]
     },
     "metadata": {},
     "output_type": "display_data"
    },
    {
     "data": {
      "text/html": [
       "<div>\n",
       "<style scoped>\n",
       "    .dataframe tbody tr th:only-of-type {\n",
       "        vertical-align: middle;\n",
       "    }\n",
       "\n",
       "    .dataframe tbody tr th {\n",
       "        vertical-align: top;\n",
       "    }\n",
       "\n",
       "    .dataframe thead th {\n",
       "        text-align: right;\n",
       "    }\n",
       "</style>\n",
       "<table border=\"1\" class=\"dataframe\">\n",
       "  <thead>\n",
       "    <tr style=\"text-align: right;\">\n",
       "      <th></th>\n",
       "      <th>band</th>\n",
       "      <th>species</th>\n",
       "      <th>blength</th>\n",
       "      <th>bdepth</th>\n",
       "    </tr>\n",
       "  </thead>\n",
       "  <tbody>\n",
       "    <tr>\n",
       "      <th>0</th>\n",
       "      <td>19022</td>\n",
       "      <td>fortis</td>\n",
       "      <td>10.0</td>\n",
       "      <td>8.5</td>\n",
       "    </tr>\n",
       "    <tr>\n",
       "      <th>1</th>\n",
       "      <td>19028</td>\n",
       "      <td>fortis</td>\n",
       "      <td>12.5</td>\n",
       "      <td>8.9</td>\n",
       "    </tr>\n",
       "  </tbody>\n",
       "</table>\n",
       "</div>"
      ],
      "text/plain": [
       "    band species  blength  bdepth\n",
       "0  19022  fortis     10.0     8.5\n",
       "1  19028  fortis     12.5     8.9"
      ]
     },
     "metadata": {},
     "output_type": "display_data"
    },
    {
     "data": {
      "text/html": [
       "<div>\n",
       "<style scoped>\n",
       "    .dataframe tbody tr th:only-of-type {\n",
       "        vertical-align: middle;\n",
       "    }\n",
       "\n",
       "    .dataframe tbody tr th {\n",
       "        vertical-align: top;\n",
       "    }\n",
       "\n",
       "    .dataframe thead th {\n",
       "        text-align: right;\n",
       "    }\n",
       "</style>\n",
       "<table border=\"1\" class=\"dataframe\">\n",
       "  <thead>\n",
       "    <tr style=\"text-align: right;\">\n",
       "      <th></th>\n",
       "      <th>Mid-offspr</th>\n",
       "      <th>Male BD</th>\n",
       "      <th>Female BD</th>\n",
       "    </tr>\n",
       "  </thead>\n",
       "  <tbody>\n",
       "    <tr>\n",
       "      <th>0</th>\n",
       "      <td>10.70</td>\n",
       "      <td>10.9</td>\n",
       "      <td>9.3</td>\n",
       "    </tr>\n",
       "    <tr>\n",
       "      <th>1</th>\n",
       "      <td>9.78</td>\n",
       "      <td>10.7</td>\n",
       "      <td>8.4</td>\n",
       "    </tr>\n",
       "  </tbody>\n",
       "</table>\n",
       "</div>"
      ],
      "text/plain": [
       "   Mid-offspr  Male BD  Female BD\n",
       "0       10.70     10.9        9.3\n",
       "1        9.78     10.7        8.4"
      ]
     },
     "metadata": {},
     "output_type": "display_data"
    },
    {
     "data": {
      "text/html": [
       "<div>\n",
       "<style scoped>\n",
       "    .dataframe tbody tr th:only-of-type {\n",
       "        vertical-align: middle;\n",
       "    }\n",
       "\n",
       "    .dataframe tbody tr th {\n",
       "        vertical-align: top;\n",
       "    }\n",
       "\n",
       "    .dataframe thead th {\n",
       "        text-align: right;\n",
       "    }\n",
       "</style>\n",
       "<table border=\"1\" class=\"dataframe\">\n",
       "  <thead>\n",
       "    <tr style=\"text-align: right;\">\n",
       "      <th></th>\n",
       "      <th>mid_parent</th>\n",
       "      <th>mid_offspring</th>\n",
       "    </tr>\n",
       "  </thead>\n",
       "  <tbody>\n",
       "    <tr>\n",
       "      <th>0</th>\n",
       "      <td>8.3318</td>\n",
       "      <td>8.4190</td>\n",
       "    </tr>\n",
       "    <tr>\n",
       "      <th>1</th>\n",
       "      <td>8.4035</td>\n",
       "      <td>9.2468</td>\n",
       "    </tr>\n",
       "  </tbody>\n",
       "</table>\n",
       "</div>"
      ],
      "text/plain": [
       "   mid_parent  mid_offspring\n",
       "0      8.3318         8.4190\n",
       "1      8.4035         9.2468"
      ]
     },
     "metadata": {},
     "output_type": "display_data"
    }
   ],
   "source": [
    "# Display the data\n",
    "display(finch_beaks_1975.head(2))\n",
    "display(finch_beaks_2012.head(2))\n",
    "display(fortis_beak_depth_heredity.head(2))\n",
    "display(scandens_beak_depth_heredity.head(2))"
   ]
  },
  {
   "cell_type": "code",
   "execution_count": 283,
   "id": "1b2fd742",
   "metadata": {},
   "outputs": [],
   "source": [
    "# Clean the data\n",
    "\n",
    "finch_beaks_1975['year'] = 1975\n",
    "finch_beaks_1975.rename(columns = {'Beak length, mm':'beak_length', 'Beak depth, mm':'beak_depth'}, inplace=True)\n",
    "\n",
    "finch_beaks_2012['year'] = 2012\n",
    "finch_beaks_2012.rename(columns = {'blength':'beak_length', 'bdepth':'beak_depth'}, inplace=True)"
   ]
  },
  {
   "cell_type": "markdown",
   "id": "0db5c292",
   "metadata": {},
   "source": [
    "## Investigation of Geospiza scandens beak depth"
   ]
  },
  {
   "cell_type": "markdown",
   "id": "341c3000",
   "metadata": {},
   "source": [
    "### EDA of beak depths of Darwin's finches\n",
    "\n",
    "Study changes in beak geometry over time. Look at beak depth of G. scandens on Daphne Major in 1975 and in 2012.\n",
    "\n",
    "* Plot beak depth measurement's in bee swarm plot\n",
    "* Plot the ECDFs for the 1975 and 2012 beak depth measurements on the same plot.\n",
    "* Estimate the difference of the mean beak depth of the G. scandens samples from 1975 and 2012 and report a 95% confidence interval.\n",
    "* Formulate hypothesis test"
   ]
  },
  {
   "cell_type": "code",
   "execution_count": 284,
   "id": "3df2e697",
   "metadata": {},
   "outputs": [],
   "source": [
    "# Create dataframe with beak depth and year for 1975 and 2012\n",
    "df = pd.concat([finch_beaks_1975, finch_beaks_2012], ignore_index=True)\n",
    "df_scandens = df[df['species']=='scandens']\n",
    "\n",
    "# Store beak depth for each year in numpy array\n",
    "bd_1975 = np.array(df_scandens[df_scandens['year']==1975]['beak_depth'])\n",
    "bd_2012 = np.array(df_scandens[df_scandens['year']==2012]['beak_depth'])\n",
    "\n",
    "# Store beak length for each year in numpy array\n",
    "bl_1975 = np.array(df_scandens[df_scandens['year']==1975]['beak_length'])\n",
    "bl_2012 = np.array(df_scandens[df_scandens['year']==2012]['beak_length'])"
   ]
  },
  {
   "cell_type": "code",
   "execution_count": 285,
   "id": "cac81cd9",
   "metadata": {},
   "outputs": [
    {
     "data": {
      "text/plain": [
       "(127,)"
      ]
     },
     "execution_count": 285,
     "metadata": {},
     "output_type": "execute_result"
    }
   ],
   "source": [
    "bd_2012.shape"
   ]
  },
  {
   "cell_type": "markdown",
   "id": "d3670cac",
   "metadata": {},
   "source": [
    "### Plot Bee Swarm Plot"
   ]
  },
  {
   "cell_type": "code",
   "execution_count": 286,
   "id": "fc5ee782",
   "metadata": {},
   "outputs": [
    {
     "data": {
      "image/png": "[encoded data removed]",
      "text/plain": [
       "<Figure size 432x288 with 1 Axes>"
      ]
     },
     "metadata": {
      "needs_background": "light"
     },
     "output_type": "display_data"
    }
   ],
   "source": [
    "# Create bee swarm plot\n",
    "_ = sns.swarmplot(x=df_scandens['year'], y=df_scandens['beak_depth'])\n",
    "\n",
    "# Label the axes\n",
    "_ = plt.xlabel('year')\n",
    "_ = plt.ylabel('beak depth (mm)')\n",
    "\n",
    "# Show the plot\n",
    "plt.show()"
   ]
  },
  {
   "cell_type": "markdown",
   "id": "ab36b6bc",
   "metadata": {},
   "source": [
    "###### In the plot, difference between 1975 and 2012 is not very clear. It looks like mean of 2012 data set might be slightly higher, and it might have bigger variance."
   ]
  },
  {
   "cell_type": "markdown",
   "id": "72da433f",
   "metadata": {},
   "source": [
    "### ECDFs of beak depths"
   ]
  },
  {
   "cell_type": "code",
   "execution_count": 287,
   "id": "e983f583",
   "metadata": {},
   "outputs": [],
   "source": [
    "# Function to compute ECDF\n",
    "\n",
    "def ecdf(data):\n",
    "    \"\"\"Compute ECDF for a one-dimensional array of measurements.\"\"\"\n",
    "    import numpy as np\n",
    "    # Number of data points: n\n",
    "    n = len(data)\n",
    "\n",
    "    # x-data for the ECDF: x\n",
    "    x = np.sort(data)\n",
    "\n",
    "    # y-data for the ECDF: y\n",
    "    y = np.arange(1, n + 1) / n\n",
    "\n",
    "    return x, y"
   ]
  },
  {
   "cell_type": "code",
   "execution_count": 288,
   "id": "b1d046f2",
   "metadata": {},
   "outputs": [
    {
     "data": {
      "image/png": "[encoded data removed]",
      "text/plain": [
       "<Figure size 432x288 with 1 Axes>"
      ]
     },
     "metadata": {
      "needs_background": "light"
     },
     "output_type": "display_data"
    }
   ],
   "source": [
    "# Compute ECDFs\n",
    "x_1975, y_1975 = ecdf(bd_1975)\n",
    "x_2012, y_2012 = ecdf(bd_2012)\n",
    "\n",
    "# Plot the ECDFs\n",
    "_ = plt.plot(x_1975, y_1975, marker='.', linestyle='none')\n",
    "_ = plt.plot(x_2012, y_2012, marker='.', linestyle='none')\n",
    "\n",
    "# Set margins\n",
    "plt.margins(0.02)\n",
    "\n",
    "# Add axis labels and legend\n",
    "_ = plt.xlabel('beak depth (mm)')\n",
    "_ = plt.ylabel('ECDF')\n",
    "_ = plt.legend(('1975', '2012'), loc='lower right')\n",
    "\n",
    "# Show the plot\n",
    "plt.show()"
   ]
  },
  {
   "cell_type": "markdown",
   "id": "2eb7d43a",
   "metadata": {},
   "source": [
    "###### The difference is much clearer in ECDF. The mean is larger in 2012 data, and variance is also larger."
   ]
  },
  {
   "cell_type": "markdown",
   "id": "d47c67b6",
   "metadata": {},
   "source": [
    "### Bootstraping of beak depths data"
   ]
  },
  {
   "cell_type": "code",
   "execution_count": 289,
   "id": "75d92a9c",
   "metadata": {},
   "outputs": [],
   "source": [
    "# Function to do bootstrapping\n",
    "\n",
    "# Generate bootstrap replicate\n",
    "def bootstrap_replicate_1d(data, func):\n",
    "    \"\"\"Generate bootstrap replicate of 1D data.\"\"\"\n",
    "    bs_sample = np.random.choice(data, len(data))\n",
    "    return func(bs_sample)\n",
    "\n",
    "# Generating many bootstrap replicates\n",
    "def draw_bs_reps(data, func, size=1):\n",
    "    \"\"\"Draw bootstrap replicates.\"\"\"\n",
    "\n",
    "    # Initialize array of replicates: bs_replicates\n",
    "    bs_replicates = np.empty(size)\n",
    "\n",
    "    # Generate replicates\n",
    "    for i in range(size):\n",
    "        bs_replicates[i] = bootstrap_replicate_1d(data, func)\n",
    "\n",
    "    return bs_replicates"
   ]
  },
  {
   "cell_type": "code",
   "execution_count": 290,
   "id": "462846c7",
   "metadata": {},
   "outputs": [
    {
     "name": "stdout",
     "output_type": "stream",
     "text": [
      "difference of means = 0.22622047244094645 mm\n",
      "95% confidence interval = [0.05561313 0.38969529] mm\n"
     ]
    }
   ],
   "source": [
    "# Parameter estimates of beak depths\n",
    "\n",
    "# Compute the difference of the sample means: mean_diff\n",
    "mean_diff = np.mean(bd_2012) - np.mean(bd_1975)\n",
    "\n",
    "# Get bootstrap replicates of means\n",
    "bs_replicates_1975 = draw_bs_reps(bd_1975, np.mean, 10000)\n",
    "bs_replicates_2012 = draw_bs_reps(bd_2012, np.mean, 10000)\n",
    "\n",
    "# Compute samples of difference of means: bs_diff_replicates\n",
    "bs_diff_replicates = bs_replicates_2012 - bs_replicates_1975\n",
    "\n",
    "# Compute 95% confidence interval: conf_int\n",
    "conf_int = np.percentile(bs_diff_replicates, [2.5, 97.5])\n",
    "\n",
    "# Print the results\n",
    "print('difference of means =', mean_diff, 'mm')\n",
    "print('95% confidence interval =', conf_int, 'mm')"
   ]
  },
  {
   "cell_type": "markdown",
   "id": "ec7b566a",
   "metadata": {},
   "source": [
    "### Hypothesis test: Are beaks deeper in 2012?\n",
    "\n",
    "Based on ECDF and confidence interval, it is clear that beak depths of G. Scandens have gotten deeper. Answer the following questions to justify the dataset:\n",
    "* Is it possible that this effect is just due to random chance? \n",
    "* What is the probability that we would get the observed difference in mean beak depth if the means were the same?\n",
    "\n",
    "Do a permutation test as data of beak depths did not come from same distribution.\n",
    "\n",
    "##### The hypothesis is that the means are equal."
   ]
  },
  {
   "cell_type": "code",
   "execution_count": 291,
   "id": "4d0c21f6",
   "metadata": {},
   "outputs": [
    {
     "name": "stdout",
     "output_type": "stream",
     "text": [
      "p-value = 0.004\n"
     ]
    }
   ],
   "source": [
    "# Compute mean of combined data set: combined_mean\n",
    "combined_mean = np.mean(np.concatenate((bd_1975, bd_2012)))\n",
    "\n",
    "# Shift the samples\n",
    "bd_1975_shifted = bd_1975 - np.mean(bd_1975) + combined_mean\n",
    "bd_2012_shifted = bd_2012 - np.mean(bd_2012) + combined_mean\n",
    "\n",
    "# Get bootstrap replicates of shifted data sets\n",
    "bs_replicates_1975 = draw_bs_reps(bd_1975_shifted, np.mean, 10000)\n",
    "bs_replicates_2012 = draw_bs_reps(bd_2012_shifted, np.mean, 10000)\n",
    "\n",
    "# Compute replicates of difference of means: bs_diff_replicates\n",
    "bs_diff_replicates = bs_replicates_2012 - bs_replicates_1975\n",
    "\n",
    "# Compute the p-value\n",
    "p = np.sum(bs_diff_replicates >= mean_diff) / len(bs_diff_replicates)\n",
    "\n",
    "# Print p-value\n",
    "print('p-value =', p)"
   ]
  },
  {
   "cell_type": "markdown",
   "id": "00323226",
   "metadata": {},
   "source": [
    "##### p-value is 0.0035, which suggests that there is statistically significant difference.\n",
    "\n",
    "Conclusion: Difference of 0.2 mm between the means. Changing by 0.2 mm in 37 years is substantial by evolutionary standards. If it kept changing at that rate, the beak depth would double in only 400 years."
   ]
  },
  {
   "cell_type": "markdown",
   "id": "4be3235f",
   "metadata": {},
   "source": [
    "## Variation in beak shapes of Geospiza scandens"
   ]
  },
  {
   "cell_type": "markdown",
   "id": "1e863165",
   "metadata": {},
   "source": [
    "### EDA of beak length and depth"
   ]
  },
  {
   "cell_type": "code",
   "execution_count": 292,
   "id": "265eee27",
   "metadata": {},
   "outputs": [
    {
     "data": {
      "image/png": "[encoded data removed]",
      "text/plain": [
       "<Figure size 432x288 with 1 Axes>"
      ]
     },
     "metadata": {
      "needs_background": "light"
     },
     "output_type": "display_data"
    }
   ],
   "source": [
    "# Make scatter plot of 1975 data\n",
    "_ = plt.plot(bl_1975, bd_1975, marker='.',\n",
    "             linestyle='None', color='blue', alpha=0.5)\n",
    "\n",
    "# Make scatter plot of 2012 data\n",
    "_ = plt.plot(bl_2012, bd_2012, marker='.',\n",
    "             linestyle='None', color='red', alpha=0.5)\n",
    "\n",
    "# Label axes and make legend\n",
    "_ = plt.xlabel('beak length (mm)')\n",
    "_ = plt.ylabel('beak depth (mm)')\n",
    "_ = plt.legend(('1975', '2012'), loc='upper left')\n",
    "\n",
    "# Show the plot\n",
    "plt.show()"
   ]
  },
  {
   "cell_type": "markdown",
   "id": "5f95e06c",
   "metadata": {},
   "source": [
    "### Linear regressions\n",
    "* Perform a linear regression for both the 1975 and 2012 data.\n",
    "* Perform pairs bootstrap estimates for the regression parameters.\n",
    "* Report 95% confidence intervals on the slope and intercept of the regression line."
   ]
  },
  {
   "cell_type": "code",
   "execution_count": 293,
   "id": "e249865a",
   "metadata": {},
   "outputs": [],
   "source": [
    "# Function to do pairs bootstrap\n",
    "def draw_bs_pairs_linreg(x, y, size=1):\n",
    "    \"\"\"Perform pairs bootstrap for linear regression.\"\"\"\n",
    "\n",
    "    # Set up array of indices to sample from: inds\n",
    "    inds = np.arange(0, len(x))\n",
    "\n",
    "    # Initialize replicates: bs_slope_reps, bs_intercept_reps\n",
    "    bs_slope_reps = np.empty(size)\n",
    "    bs_intercept_reps = np.empty(size)\n",
    "\n",
    "    # Generate replicates\n",
    "    for i in range(size):\n",
    "        bs_inds = np.random.choice(inds, size=len(inds))\n",
    "        bs_x, bs_y = x[bs_inds], y[bs_inds]\n",
    "        bs_slope_reps[i], bs_intercept_reps[i] = np.polyfit(bs_x, bs_y, 1)\n",
    "\n",
    "    return bs_slope_reps, bs_intercept_reps"
   ]
  },
  {
   "cell_type": "code",
   "execution_count": 294,
   "id": "d4f0072d",
   "metadata": {},
   "outputs": [
    {
     "name": "stdout",
     "output_type": "stream",
     "text": [
      "1975: slope = 0.46520516916059357 conf int = [0.33187833 0.59204182]\n",
      "1975: intercept = 2.3908752365842285 conf int = [0.64261677 4.28874164]\n",
      "2012: slope = 0.4626303588353127 conf int = [0.3428137  0.60265302]\n",
      "2012: intercept = 2.9772474982360158 conf int = [1.1403339  4.57424999]\n"
     ]
    }
   ],
   "source": [
    "# Compute the linear regressions\n",
    "slope_1975, intercept_1975 = np.polyfit(bl_1975, bd_1975, 1)\n",
    "slope_2012, intercept_2012 = np.polyfit(bl_2012, bd_2012, 1)\n",
    "\n",
    "# Perform pairs bootstrap for the linear regressions\n",
    "bs_slope_reps_1975, bs_intercept_reps_1975 = \\\n",
    "        draw_bs_pairs_linreg(bl_1975, bd_1975, 1000)\n",
    "bs_slope_reps_2012, bs_intercept_reps_2012 = \\\n",
    "        draw_bs_pairs_linreg(bl_2012, bd_2012, 1000)\n",
    "\n",
    "# Compute confidence intervals of slopes\n",
    "slope_conf_int_1975 = np.percentile(bs_slope_reps_1975, [2.5, 97.5])\n",
    "slope_conf_int_2012 = np.percentile(bs_slope_reps_2012, [2.5, 97.5])\n",
    "intercept_conf_int_1975 = np.percentile(bs_intercept_reps_1975, [2.5, 97.5])\n",
    "intercept_conf_int_2012 = np.percentile(bs_intercept_reps_2012, [2.5, 97.5])\n",
    "\n",
    "\n",
    "# Print the results\n",
    "print('1975: slope =', slope_1975,\n",
    "      'conf int =', slope_conf_int_1975)\n",
    "print('1975: intercept =', intercept_1975,\n",
    "      'conf int =', intercept_conf_int_1975)\n",
    "print('2012: slope =', slope_2012,\n",
    "      'conf int =', slope_conf_int_2012)\n",
    "print('2012: intercept =', intercept_2012,\n",
    "      'conf int =', intercept_conf_int_2012)"
   ]
  },
  {
   "cell_type": "code",
   "execution_count": 295,
   "id": "a8b6d5c0",
   "metadata": {},
   "outputs": [
    {
     "data": {
      "image/png": "[encoded data removed]",
      "text/plain": [
       "<Figure size 432x288 with 1 Axes>"
      ]
     },
     "metadata": {
      "needs_background": "light"
     },
     "output_type": "display_data"
    }
   ],
   "source": [
    "# Displaying the linear regression results\n",
    "\n",
    "# Make scatter plot of 1975 data\n",
    "_ = plt.plot(bl_1975, bd_1975, marker='.',\n",
    "             linestyle='none', color='blue', alpha=0.5)\n",
    "\n",
    "# Make scatter plot of 2012 data\n",
    "_ = plt.plot(bl_2012, bd_2012, marker='.',\n",
    "             linestyle='none', color='red', alpha=0.5)\n",
    "\n",
    "# Label axes and make legend\n",
    "_ = plt.xlabel('beak length (mm)')\n",
    "_ = plt.ylabel('beak depth (mm)')\n",
    "_ = plt.legend(('1975', '2012'), loc='upper left')\n",
    "\n",
    "# Generate x-values for bootstrap lines: x\n",
    "x = np.array([10, 17])\n",
    "\n",
    "# Plot the bootstrap lines\n",
    "for i in range(100):\n",
    "    plt.plot(x, bs_slope_reps_1975[i]*x + bs_intercept_reps_1975[i],\n",
    "             linewidth=0.5, alpha=0.2, color='blue')\n",
    "    plt.plot(x, bs_slope_reps_2012[i]*x + bs_intercept_reps_2012[i],\n",
    "             linewidth=0.5, alpha=0.2, color='red')\n",
    "\n",
    "# Draw the plot again\n",
    "plt.show()"
   ]
  },
  {
   "cell_type": "markdown",
   "id": "8a1aec60",
   "metadata": {},
   "source": [
    "##### The slope was the same in 1975 and 2012, suggesting that for every millimeter gained in beak length, the birds gained about half a millimeter in depth in both years.Compare the ratio of beak length to beak depth to see changes in shape of the beak."
   ]
  },
  {
   "cell_type": "code",
   "execution_count": 296,
   "id": "24c0a853",
   "metadata": {},
   "outputs": [
    {
     "name": "stdout",
     "output_type": "stream",
     "text": [
      "1975: mean ratio = 1.5788823771858533 conf int = [1.55710344 1.60059865]\n",
      "2012: mean ratio = 1.4658342276847767 conf int = [1.44461089 1.48842428]\n"
     ]
    }
   ],
   "source": [
    "# Beak length to depth ratio\n",
    "\n",
    "# Compute length-to-depth ratios\n",
    "ratio_1975 = bl_1975 / bd_1975\n",
    "ratio_2012 = bl_2012 / bd_2012\n",
    "\n",
    "# Compute means\n",
    "mean_ratio_1975 = np.mean(ratio_1975)\n",
    "mean_ratio_2012 = np.mean(ratio_2012)\n",
    "\n",
    "# Generate bootstrap replicates of the means\n",
    "bs_replicates_1975 = draw_bs_reps(ratio_1975, np.mean, 10000)\n",
    "bs_replicates_2012 = draw_bs_reps(ratio_2012, np.mean, 10000)\n",
    "\n",
    "# Compute the 99% confidence intervals\n",
    "conf_int_1975 = np.percentile(bs_replicates_1975, [0.5, 99.5])\n",
    "conf_int_2012 = np.percentile(bs_replicates_2012, [0.5, 99.5])\n",
    "\n",
    "# Print the results\n",
    "print('1975: mean ratio =', mean_ratio_1975,\n",
    "      'conf int =', conf_int_1975)\n",
    "print('2012: mean ratio =', mean_ratio_2012,\n",
    "      'conf int =', conf_int_2012)"
   ]
  },
  {
   "cell_type": "markdown",
   "id": "cd90ad26",
   "metadata": {},
   "source": [
    "###### How different is the ratio?\n",
    "\n",
    "The mean beak length-to-depth ratio decreased by about 0.1, or 7%, from 1975 to 2012. The 99% confidence intervals are not even close to overlapping, so this is a real change. The beak shape changed."
   ]
  },
  {
   "cell_type": "markdown",
   "id": "4be8526d",
   "metadata": {},
   "source": [
    "## Calculation of heritability\n",
    "* EDA of parents and offsprings data - see correlation\n",
    "* See correlation using Pearson Correlation Coefficient\n",
    "* See correlation with 95% confidence interval\n",
    "* Measure heritability with 95% confidence interval"
   ]
  },
  {
   "cell_type": "markdown",
   "id": "12f9cddf",
   "metadata": {},
   "source": [
    "## EDA of heritability"
   ]
  },
  {
   "cell_type": "code",
   "execution_count": 297,
   "id": "b2a8aa4a",
   "metadata": {},
   "outputs": [],
   "source": [
    "# Clean and prepare data\n",
    "\n",
    "# G. Scandens average beak depths of parents and offsprings\n",
    "bd_parent_scandens = np.array(scandens_beak_depth_heredity.mid_parent)\n",
    "bd_offspring_scandens = np.array(scandens_beak_depth_heredity.mid_offspring)\n",
    "\n",
    "# G. Fortis average beak depths of parents and offsprings\n",
    "bd_parent_fortis = np.array((fortis_beak_depth_heredity['Male BD'] + fortis_beak_depth_heredity['Female BD']) / 2)\n",
    "bd_offspring_fortis = np.array(fortis_beak_depth_heredity['Mid-offspr'])"
   ]
  },
  {
   "cell_type": "code",
   "execution_count": 298,
   "id": "6506542f",
   "metadata": {},
   "outputs": [
    {
     "data": {
      "image/png": "[encoded data removed]",
      "text/plain": [
       "<Figure size 432x288 with 1 Axes>"
      ]
     },
     "metadata": {
      "needs_background": "light"
     },
     "output_type": "display_data"
    }
   ],
   "source": [
    "# Make scatter plots\n",
    "_ = plt.plot(bd_parent_fortis, bd_offspring_fortis,\n",
    "             marker='.', linestyle='none', color='blue', alpha=0.5)\n",
    "             \n",
    "_ = plt.plot(bd_parent_scandens, bd_offspring_scandens,\n",
    "             marker='.', linestyle='none', color='red', alpha=0.5)\n",
    "\n",
    "# Label axes\n",
    "_ = plt.xlabel('parental beak depth (mm)')\n",
    "_ = plt.ylabel('offspring beak depth (mm)')\n",
    "\n",
    "# Add legend\n",
    "_ = plt.legend(('G. fortis', 'G. scandens'), loc='lower right')\n",
    "\n",
    "# Show plot\n",
    "plt.show()"
   ]
  },
  {
   "cell_type": "markdown",
   "id": "c387cf68",
   "metadata": {},
   "source": [
    "It appears as though there is a stronger correlation in G. fortis than in G. scandens. This suggests that beak depth is more strongly inherited in G. fortis."
   ]
  },
  {
   "cell_type": "markdown",
   "id": "7a191549",
   "metadata": {},
   "source": [
    "## Correlation of offspring and parental data\n",
    "\n",
    "Compute statistics, such as the Pearson correlation coefficient, between parents and offspring."
   ]
  },
  {
   "cell_type": "code",
   "execution_count": 299,
   "id": "48ba026b",
   "metadata": {},
   "outputs": [],
   "source": [
    "# Function to perform pairs bootstrap and computes a single statistic on pairs samples defined\n",
    "def draw_bs_pairs(x, y, func, size=1):\n",
    "    \"\"\"Perform pairs bootstrap for a single statistic.\"\"\"\n",
    "\n",
    "    # Set up array of indices to sample from: inds\n",
    "    inds = np.arange(len(x))\n",
    "\n",
    "    # Initialize replicates: bs_replicates\n",
    "    bs_replicates = np.empty(size)\n",
    "\n",
    "    # Generate replicates\n",
    "    for i in range(size):\n",
    "        bs_inds = np.random.choice(inds, size=len(inds))\n",
    "        bs_x, bs_y = x[bs_inds], y[bs_inds]\n",
    "        bs_replicates[i] = func(bs_x, bs_y)\n",
    "\n",
    "    return bs_replicates\n",
    "\n",
    "# Computing the Pearson correlation coefficient\n",
    "def pearson_r(x, y):\n",
    "    \"\"\"Compute Pearson correlation coefficient between two arrays.\"\"\"\n",
    "    # Compute correlation matrix: corr_mat\n",
    "    corr_mat = np.corrcoef(x, y)\n",
    "\n",
    "    # Return entry [0,1]\n",
    "    return corr_mat[0,1]"
   ]
  },
  {
   "cell_type": "code",
   "execution_count": 300,
   "id": "68a6c877",
   "metadata": {},
   "outputs": [
    {
     "name": "stdout",
     "output_type": "stream",
     "text": [
      "G. scandens: 0.4117063629401259 [0.26583456 0.54261009]\n",
      "G. fortis: 0.7283412395518485 [0.66970763 0.78049688]\n"
     ]
    }
   ],
   "source": [
    "# Pearson correlation of offspring and parental data\n",
    "\n",
    "# Compute the Pearson correlation coefficients\n",
    "r_scandens = pearson_r(bd_parent_scandens, bd_offspring_scandens)\n",
    "r_fortis = pearson_r(bd_parent_fortis, bd_offspring_fortis)\n",
    "\n",
    "# Acquire 1000 bootstrap replicates of Pearson r\n",
    "bs_replicates_scandens = draw_bs_pairs(bd_parent_scandens, \\\n",
    "                                    bd_offspring_scandens, pearson_r, 1000)\n",
    "\n",
    "bs_replicates_fortis = draw_bs_pairs(bd_parent_fortis, \\\n",
    "                                    bd_offspring_fortis, pearson_r, 1000)\n",
    "\n",
    "\n",
    "# Compute 95% confidence intervals\n",
    "conf_int_scandens = np.percentile(bs_replicates_scandens, [2.5, 97.5])\n",
    "conf_int_fortis = np.percentile(bs_replicates_fortis, [2.5, 97.5])\n",
    "\n",
    "# Print results\n",
    "print('G. scandens:', r_scandens, conf_int_scandens)\n",
    "print('G. fortis:', r_fortis, conf_int_fortis)\n"
   ]
  },
  {
   "cell_type": "markdown",
   "id": "c3d5fac7",
   "metadata": {},
   "source": [
    "It is clear from the confidence intervals that beak depth of the offspring of G. fortis parents is more strongly correlated with their offspring than their G. scandens counterparts."
   ]
  },
  {
   "cell_type": "markdown",
   "id": "954ba8d9",
   "metadata": {},
   "source": [
    "## Measuring heritability"
   ]
  },
  {
   "cell_type": "code",
   "execution_count": 301,
   "id": "65d5b03d",
   "metadata": {},
   "outputs": [],
   "source": [
    "# Computes heritability defined as the ratio of the covariance of the trait in parents \n",
    "# and offspring divided by the variance of the trait in the parents. \n",
    "\n",
    "def heritability(parents, offspring):\n",
    "    \"\"\"Compute the heritability from parent and offspring samples.\"\"\"\n",
    "    covariance_matrix = np.cov(parents, offspring)\n",
    "    return covariance_matrix[0,1]/ covariance_matrix[0,0]"
   ]
  },
  {
   "cell_type": "code",
   "execution_count": 302,
   "id": "2b3a2511",
   "metadata": {},
   "outputs": [
    {
     "name": "stdout",
     "output_type": "stream",
     "text": [
      "G. scandens: 0.5485340868685983 [0.35162683 0.74006068]\n",
      "G. fortis: 0.7229051911438154 [0.65027228 0.8005523 ]\n"
     ]
    }
   ],
   "source": [
    "# Compute the heritability\n",
    "heritability_scandens = heritability(bd_parent_scandens, bd_offspring_scandens)\n",
    "heritability_fortis = heritability(bd_parent_fortis, bd_offspring_fortis)\n",
    "\n",
    "# Acquire 1000 bootstrap replicates of heritability\n",
    "replicates_scandens = draw_bs_pairs(\n",
    "        bd_parent_scandens, bd_offspring_scandens, heritability, 1000)\n",
    "        \n",
    "replicates_fortis = draw_bs_pairs(\n",
    "        bd_parent_fortis, bd_offspring_fortis, heritability, 1000)\n",
    "\n",
    "\n",
    "# Compute 95% confidence intervals\n",
    "conf_int_scandens = np.percentile(replicates_scandens, [2.5, 97.5])\n",
    "conf_int_fortis = np.percentile(replicates_fortis, [2.5, 97.5])\n",
    "\n",
    "# Print results\n",
    "print('G. scandens:', heritability_scandens, conf_int_scandens)\n",
    "print('G. fortis:', heritability_fortis, conf_int_fortis)"
   ]
  },
  {
   "cell_type": "markdown",
   "id": "1b7b4e01",
   "metadata": {},
   "source": [
    "G. fortis has stronger heritability than G. scandens. This suggests that the traits of G. fortis may be strongly incorporated into G. scandens by introgressive hybridization."
   ]
  },
  {
   "cell_type": "markdown",
   "id": "0e71adc1",
   "metadata": {},
   "source": [
    "## Is beak depth heritable at all in G. scandens?\n",
    "\n",
    "Hypothesis: Above observed heritability was just achieved by chance and beak depth is actually not really heritable in the species."
   ]
  },
  {
   "cell_type": "code",
   "execution_count": 303,
   "id": "47312ca8",
   "metadata": {},
   "outputs": [
    {
     "name": "stdout",
     "output_type": "stream",
     "text": [
      "p-val = 0.0\n"
     ]
    }
   ],
   "source": [
    "# Permutation test to check the hypothesis\n",
    "\n",
    "# Initialize array of replicates: perm_replicates\n",
    "perm_replicates = np.empty(10000)\n",
    "\n",
    "# Draw replicates\n",
    "for i in range(10000):\n",
    "    # Permute parent beak depths\n",
    "    bd_parent_permuted = np.random.permutation(bd_parent_scandens)\n",
    "    perm_replicates[i] = heritability(bd_parent_permuted, bd_offspring_scandens)\n",
    "\n",
    "\n",
    "# Compute p-value: p\n",
    "p = np.sum(perm_replicates >= heritability_scandens) / len(perm_replicates)\n",
    "\n",
    "# Print the p-value\n",
    "print('p-val =', p)"
   ]
  },
  {
   "cell_type": "markdown",
   "id": "73147efa",
   "metadata": {},
   "source": [
    "p-value is zero, which means that none of the 10,000 permutation pairs replicates had a heritability high enough to match that which was observed. This strongly suggests that beak depth is heritable in G. scandens, just not as much as in G. fortis."
   ]
  },
  {
   "cell_type": "code",
   "execution_count": 304,
   "id": "18536a77",
   "metadata": {},
   "outputs": [
    {
     "data": {
      "image/png": "[encoded data removed]",
      "text/plain": [
       "<Figure size 432x288 with 1 Axes>"
      ]
     },
     "metadata": {
      "needs_background": "light"
     },
     "output_type": "display_data"
    }
   ],
   "source": [
    "# Plot a histogram\n",
    "\n",
    "_ = plt.hist(perm_replicates, histtype='step')\n",
    "_ = plt.xlabel('Heritability replicates')\n",
    "_ = plt.ylabel('Count of replicates')"
   ]
  },
  {
   "cell_type": "code",
   "execution_count": null,
   "id": "66824ca8",
   "metadata": {},
   "outputs": [],
   "source": []
  }
 ],
 "metadata": {
  "kernelspec": {
   "display_name": "Python 3 (ipykernel)",
   "language": "python",
   "name": "python3"
  },
  "language_info": {
   "codemirror_mode": {
    "name": "ipython",
    "version": 3
   },
   "file_extension": ".py",
   "mimetype": "text/x-python",
   "name": "python",
   "nbconvert_exporter": "python",
   "pygments_lexer": "ipython3",
   "version": "3.9.7"
  }
 },
 "nbformat": 4,
 "nbformat_minor": 5
}
